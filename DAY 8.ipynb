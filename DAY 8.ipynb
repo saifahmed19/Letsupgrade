{
 "cells": [
  {
   "cell_type": "markdown",
   "metadata": {},
   "source": [
    "# FIBONACCI SERIES USING DECORATOR"
   ]
  },
  {
   "cell_type": "code",
   "execution_count": 1,
   "metadata": {},
   "outputs": [],
   "source": [
    "def smart_fibo(num):\n",
    "    def Fibonacci(n):\n",
    "        \n",
    "        if n<=0:\n",
    "            print(\"Incorrect input\")\n",
    "    \n",
    "        elif n==1:\n",
    "            return 0\n",
    "\n",
    "        elif n==2:\n",
    "            return 1\n",
    "        else:\n",
    "            \n",
    "            return Fibonacci(n-1)+Fibonacci(n-2)\n",
    "            return num(n)\n",
    "    return Fibonacci\n"
   ]
  },
  {
   "cell_type": "code",
   "execution_count": 2,
   "metadata": {},
   "outputs": [],
   "source": [
    "@smart_fibo\n",
    "def fibo(n):\n",
    "    print(\"The number is\",n)\n",
    "    "
   ]
  },
  {
   "cell_type": "code",
   "execution_count": 8,
   "metadata": {},
   "outputs": [
    {
     "data": {
      "text/plain": [
       "1"
      ]
     },
     "execution_count": 8,
     "metadata": {},
     "output_type": "execute_result"
    }
   ],
   "source": [
    "fibo(2)\n"
   ]
  },
  {
   "cell_type": "code",
   "execution_count": null,
   "metadata": {},
   "outputs": [],
   "source": []
  }
 ],
 "metadata": {
  "kernelspec": {
   "display_name": "Python 3",
   "language": "python",
   "name": "python3"
  },
  "language_info": {
   "codemirror_mode": {
    "name": "ipython",
    "version": 3
   },
   "file_extension": ".py",
   "mimetype": "text/x-python",
   "name": "python",
   "nbconvert_exporter": "python",
   "pygments_lexer": "ipython3",
   "version": "3.8.3"
  }
 },
 "nbformat": 4,
 "nbformat_minor": 4
}
