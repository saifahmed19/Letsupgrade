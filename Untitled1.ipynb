{
 "cells": [
  {
   "cell_type": "markdown",
   "metadata": {},
   "source": [
    "# Question: -You all are pilots, you have to land a plane, the altitude required for landing a plane is 1000ft, if it is less than that tell pilot to land the plane, or it is more than that but less then 5000ft ask the pilot to \"come down to 1000ft\", else if it is more than 5000ft ask the pilot to \"go around and try later\"."
   ]
  },
  {
   "cell_type": "code",
   "execution_count": 18,
   "metadata": {},
   "outputs": [
    {
     "name": "stdout",
     "output_type": "stream",
     "text": [
      "Enter altitude: 956\n",
      "Safe to Land\n"
     ]
    }
   ],
   "source": [
    "num = input(\"Enter altitude: \")\n",
    "x = int(num)\n",
    "if x <= 1000:\n",
    "    print(\"Safe to Land\")\n",
    "elif x>=1000 and x<=5000:\n",
    "    print(\"Bring it down to 1000\")\n",
    "else:\n",
    "    print(\"Turn Around\")\n",
    "\n",
    "    \n",
    "\n",
    "    "
   ]
  },
  {
   "cell_type": "code",
   "execution_count": null,
   "metadata": {},
   "outputs": [],
   "source": []
  }
 ],
 "metadata": {
  "kernelspec": {
   "display_name": "Python 3",
   "language": "python",
   "name": "python3"
  },
  "language_info": {
   "codemirror_mode": {
    "name": "ipython",
    "version": 3
   },
   "file_extension": ".py",
   "mimetype": "text/x-python",
   "name": "python",
   "nbconvert_exporter": "python",
   "pygments_lexer": "ipython3",
   "version": "3.8.3"
  }
 },
 "nbformat": 4,
 "nbformat_minor": 4
}
