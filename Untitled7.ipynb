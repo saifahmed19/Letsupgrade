{
 "cells": [
  {
   "cell_type": "code",
   "execution_count": 37,
   "metadata": {},
   "outputs": [],
   "source": [
    "lst = list(range(1,1000))"
   ]
  },
  {
   "cell_type": "code",
   "execution_count": 46,
   "metadata": {},
   "outputs": [],
   "source": [
    "def getArmstrongNumGen(lst):\n",
    "    for num in range (1, 1000):\n",
    "        o= len (str(num))\n",
    "        \n",
    "        sum = 0\n",
    "        \n",
    "        temp = num\n",
    "        \n",
    "        while temp > 0:\n",
    "            x = temp % 10\n",
    "            sum += x ** o\n",
    "            temp //= 10\n",
    "\n",
    "        if num == sum:\n",
    "            yield(num)"
   ]
  },
  {
   "cell_type": "code",
   "execution_count": 47,
   "metadata": {},
   "outputs": [
    {
     "name": "stdout",
     "output_type": "stream",
     "text": [
      "[1, 2, 3, 4, 5, 6, 7, 8, 9, 153, 370, 371, 407]\n"
     ]
    }
   ],
   "source": [
    "print(list(getArmstrongNumGen(lst)))"
   ]
  },
  {
   "cell_type": "code",
   "execution_count": null,
   "metadata": {},
   "outputs": [],
   "source": []
  }
 ],
 "metadata": {
  "kernelspec": {
   "display_name": "Python 3",
   "language": "python",
   "name": "python3"
  },
  "language_info": {
   "codemirror_mode": {
    "name": "ipython",
    "version": 3
   },
   "file_extension": ".py",
   "mimetype": "text/x-python",
   "name": "python",
   "nbconvert_exporter": "python",
   "pygments_lexer": "ipython3",
   "version": "3.8.3"
  }
 },
 "nbformat": 4,
 "nbformat_minor": 4
}
