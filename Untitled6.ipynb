{
 "cells": [
  {
   "cell_type": "markdown",
   "metadata": {},
   "source": [
    "# Sub List"
   ]
  },
  {
   "cell_type": "code",
   "execution_count": 5,
   "metadata": {},
   "outputs": [
    {
     "name": "stdout",
     "output_type": "stream",
     "text": [
      " it's a Match \n"
     ]
    }
   ],
   "source": [
    "listy =  [1,5,6,4,1,2,5]\n",
    "\n",
    "sub_list = [1,1,5]\n",
    "\n",
    "\n",
    "for item in listy:\n",
    "    if item == sub_list[0]:\n",
    "        sub_list.pop(0)\n",
    "        \n",
    "if len(sub_list) == 0:\n",
    "    print(\" it's a Match \")\n",
    "else:\n",
    "    print(\" it's Gone \")"
   ]
  },
  {
   "cell_type": "code",
   "execution_count": null,
   "metadata": {},
   "outputs": [],
   "source": []
  }
 ],
 "metadata": {
  "kernelspec": {
   "display_name": "Python 3",
   "language": "python",
   "name": "python3"
  },
  "language_info": {
   "codemirror_mode": {
    "name": "ipython",
    "version": 3
   },
   "file_extension": ".py",
   "mimetype": "text/x-python",
   "name": "python",
   "nbconvert_exporter": "python",
   "pygments_lexer": "ipython3",
   "version": "3.8.3"
  }
 },
 "nbformat": 4,
 "nbformat_minor": 4
}
